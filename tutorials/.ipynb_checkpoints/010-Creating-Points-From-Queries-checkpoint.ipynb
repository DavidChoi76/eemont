{
 "cells": [
  {
   "cell_type": "markdown",
   "metadata": {},
   "source": [
    "<a href=\"https://colab.research.google.com/github/davemlz/eemont/blob/master/tutorials/010-Creating-Points-From-Queries.ipynb\" target=\"_parent\"><img src=\"https://colab.research.google.com/assets/colab-badge.svg\" alt=\"Open In Colab\"/></a>"
   ]
  },
  {
   "cell_type": "markdown",
   "metadata": {
    "id": "jZEthLln92Ep"
   },
   "source": [
    "# Creating Points From Queries"
   ]
  },
  {
   "cell_type": "markdown",
   "metadata": {
    "id": "dNa470OZ8Oec"
   },
   "source": [
    "- GitHub Repo: [https://github.com/davemlz/eemont](https://github.com/davemlz/eemont)\n",
    "- PyPI link: [https://pypi.org/project/eemont/](https://pypi.org/project/eemont/)\n",
    "- Documentation: [https://eemont.readthedocs.io/en/0.1.8/index.html](https://eemont.readthedocs.io/en/0.1.8/index.html)\n",
    "- More tutorials: [https://github.com/davemlz/eemont/tree/master/tutorials](https://github.com/davemlz/eemont/tree/master/tutorials)"
   ]
  },
  {
   "cell_type": "markdown",
   "metadata": {
    "id": "CD7h0hbi92Er"
   },
   "source": [
    "## Let's start!"
   ]
  },
  {
   "cell_type": "markdown",
   "metadata": {
    "id": "E0rc6Cya92Es"
   },
   "source": [
    "If required, please uncomment:"
   ]
  },
  {
   "cell_type": "code",
   "execution_count": null,
   "metadata": {
    "id": "NYzyvKtk92Es"
   },
   "outputs": [],
   "source": [
    "#!pip install eemont\n",
    "#!pip install geemap"
   ]
  },
  {
   "cell_type": "markdown",
   "metadata": {
    "id": "x3Rm3qt_92Et"
   },
   "source": [
    "Import the required packges."
   ]
  },
  {
   "cell_type": "code",
   "execution_count": 1,
   "metadata": {
    "id": "H0C9S_Hh92Et"
   },
   "outputs": [],
   "source": [
    "import ee, eemont, geemap"
   ]
  },
  {
   "cell_type": "markdown",
   "metadata": {
    "id": "k1sdX2p592Eu"
   },
   "source": [
    "Authenticate and Initialize Earth Engine and geemap."
   ]
  },
  {
   "cell_type": "code",
   "execution_count": 49,
   "metadata": {
    "id": "7QDXqVwy8Oef"
   },
   "outputs": [],
   "source": [
    "Map = geemap.Map()"
   ]
  },
  {
   "cell_type": "markdown",
   "metadata": {},
   "source": [
    "## Creating a Single Point  (ee.Geometry)"
   ]
  },
  {
   "cell_type": "markdown",
   "metadata": {},
   "source": [
    "A query is a string (structured or not) representing a place that is geocoded in order to get its coordinates."
   ]
  },
  {
   "cell_type": "code",
   "execution_count": 29,
   "metadata": {},
   "outputs": [],
   "source": [
    "query = 'Santa Marta, Magdalena, Colombia'"
   ]
  },
  {
   "cell_type": "markdown",
   "metadata": {},
   "source": [
    "In [eemont](https://github.com/davemlz/eemont), a point can be constructed from a query using the [geopy](https://geopy.readthedocs.io/en/latest/#) package."
   ]
  },
  {
   "cell_type": "markdown",
   "metadata": {},
   "source": [
    "> NOTE: Neither eemont nor geopy are geocoding services."
   ]
  },
  {
   "cell_type": "markdown",
   "metadata": {},
   "source": [
    "An ee.Geometry.Point can be constructed using the ee.Geometry.PointFromQuery constructor (extended through eemont):"
   ]
  },
  {
   "cell_type": "code",
   "execution_count": 30,
   "metadata": {},
   "outputs": [],
   "source": [
    "pointFromQuery = ee.Geometry.PointFromQuery(query,user_agent = 'eemont-tutorial-010')"
   ]
  },
  {
   "cell_type": "markdown",
   "metadata": {},
   "source": [
    "The `user_agent` argument must be specified: This is a string describing the name of the app that is using a geocoding service (you can use here your GEE username)."
   ]
  },
  {
   "cell_type": "markdown",
   "metadata": {},
   "source": [
    "Let's visualize our point (color blue):"
   ]
  },
  {
   "cell_type": "code",
   "execution_count": 31,
   "metadata": {},
   "outputs": [
    {
     "data": {
      "application/vnd.jupyter.widget-view+json": {
       "model_id": "7e78af84a2d94297b37bf99dca61e0f4",
       "version_major": 2,
       "version_minor": 0
      },
      "text/plain": [
       "Map(center=[11.242228900000002, -74.2055606], controls=(WidgetControl(options=['position'], widget=HBox(childr…"
      ]
     },
     "metadata": {},
     "output_type": "display_data"
    }
   ],
   "source": [
    "Map.addLayer(pointFromQuery,{'color':'blue'},'Nominatim')\n",
    "Map.centerObject(pointFromQuery,10)\n",
    "Map"
   ]
  },
  {
   "cell_type": "markdown",
   "metadata": {},
   "source": [
    "By default, the geocoding service used is `nominatim` ([Open Street Maps](https://nominatim.openstreetmap.org/ui/search.html)). But it can be modified using the `geocoder` parameter (let's use the arcgis geocoding service):"
   ]
  },
  {
   "cell_type": "code",
   "execution_count": 32,
   "metadata": {},
   "outputs": [],
   "source": [
    "pointFromQuery = ee.Geometry.PointFromQuery(query,geocoder = 'arcgis',user_agent = 'eemont-tutorial-010')"
   ]
  },
  {
   "cell_type": "markdown",
   "metadata": {},
   "source": [
    "Let's visualize our point (color red):"
   ]
  },
  {
   "cell_type": "code",
   "execution_count": 33,
   "metadata": {},
   "outputs": [
    {
     "data": {
      "application/vnd.jupyter.widget-view+json": {
       "model_id": "7e78af84a2d94297b37bf99dca61e0f4",
       "version_major": 2,
       "version_minor": 0
      },
      "text/plain": [
       "Map(bottom=123133.0, center=[11.226560000000063, -74.19873999999999], controls=(WidgetControl(options=['positi…"
      ]
     },
     "metadata": {},
     "output_type": "display_data"
    }
   ],
   "source": [
    "Map.addLayer(pointFromQuery,{'color':'red'},'Arcgis')\n",
    "Map.centerObject(pointFromQuery,10)\n",
    "Map"
   ]
  },
  {
   "cell_type": "markdown",
   "metadata": {},
   "source": [
    "As you can see, different geocoding services may give different results."
   ]
  },
  {
   "cell_type": "markdown",
   "metadata": {},
   "source": [
    "## Creating a Single Point with Properties (ee.Feature)"
   ]
  },
  {
   "cell_type": "markdown",
   "metadata": {},
   "source": [
    "A feature can also be created using the ee.Feature.PointFromQuery constructor (extended through eemont):"
   ]
  },
  {
   "cell_type": "code",
   "execution_count": 34,
   "metadata": {},
   "outputs": [],
   "source": [
    "featureFromQuery = ee.Feature.PointFromQuery(query,user_agent = 'eemont-tutorial-010')"
   ]
  },
  {
   "cell_type": "markdown",
   "metadata": {},
   "source": [
    "Let's explore the feature:"
   ]
  },
  {
   "cell_type": "code",
   "execution_count": 35,
   "metadata": {},
   "outputs": [
    {
     "data": {
      "text/plain": [
       "{'type': 'Feature',\n",
       " 'geometry': {'type': 'Point', 'coordinates': [-74.2055606, 11.2422289]},\n",
       " 'properties': {'boundingbox': ['11.0822289',\n",
       "   '11.4022289',\n",
       "   '-74.3655606',\n",
       "   '-74.0455606'],\n",
       "  'class': 'place',\n",
       "  'display_name': 'Santa Marta, Magdalena, Caribe, 470004, Colombia',\n",
       "  'icon': 'https://nominatim.openstreetmap.org/ui/mapicons//poi_place_city.p.20.png',\n",
       "  'importance': 0.92123821435197,\n",
       "  'lat': '11.2422289',\n",
       "  'licence': 'Data © OpenStreetMap contributors, ODbL 1.0. https://osm.org/copyright',\n",
       "  'lon': '-74.2055606',\n",
       "  'osm_id': 298024011,\n",
       "  'osm_type': 'node',\n",
       "  'place_id': 1127465,\n",
       "  'type': 'city'}}"
      ]
     },
     "execution_count": 35,
     "metadata": {},
     "output_type": "execute_result"
    }
   ],
   "source": [
    "featureFromQuery.getInfo()"
   ]
  },
  {
   "cell_type": "markdown",
   "metadata": {},
   "source": [
    "The raw properties of the place obtained from the geocoding service are converted into the feature properties. Let's check the properties from the arcgis geocoder:"
   ]
  },
  {
   "cell_type": "code",
   "execution_count": 36,
   "metadata": {},
   "outputs": [
    {
     "data": {
      "text/plain": [
       "{'type': 'Feature',\n",
       " 'geometry': {'type': 'Point',\n",
       "  'coordinates': [-74.19873999999999, 11.226560000000063]},\n",
       " 'properties': {'address': 'Santa Marta, Magdalena',\n",
       "  'attributes': {},\n",
       "  'extent': {'xmax': -73.89873999999999,\n",
       "   'xmin': -74.49873999999998,\n",
       "   'ymax': 11.526560000000064,\n",
       "   'ymin': 10.926560000000062},\n",
       "  'location': {'x': -74.19873999999999, 'y': 11.226560000000063},\n",
       "  'score': 100}}"
      ]
     },
     "execution_count": 36,
     "metadata": {},
     "output_type": "execute_result"
    }
   ],
   "source": [
    "featureFromQuery = ee.Feature.PointFromQuery(query,geocoder = 'arcgis',user_agent = 'eemont-tutorial-010')\n",
    "featureFromQuery.getInfo()"
   ]
  },
  {
   "cell_type": "markdown",
   "metadata": {},
   "source": [
    "Different properties are obtained using different geocoders."
   ]
  },
  {
   "cell_type": "markdown",
   "metadata": {},
   "source": [
    "## Creating a MultiPoint Geometry (ee.Geometry)"
   ]
  },
  {
   "cell_type": "markdown",
   "metadata": {},
   "source": [
    "When a query is geocoded, usually more than one location is retrieved. To get all locations, the ee.Geometry.MultiPointFromQuery constructor (extended through eemont) can be used:"
   ]
  },
  {
   "cell_type": "code",
   "execution_count": 50,
   "metadata": {},
   "outputs": [],
   "source": [
    "query = 'Amazonas'"
   ]
  },
  {
   "cell_type": "code",
   "execution_count": 51,
   "metadata": {},
   "outputs": [],
   "source": [
    "multiPointFromQuery = ee.Geometry.MultiPointFromQuery(query,user_agent = 'eemont-tutorial-010')"
   ]
  },
  {
   "cell_type": "markdown",
   "metadata": {},
   "source": [
    "Let's visualize our new points (color green):"
   ]
  },
  {
   "cell_type": "code",
   "execution_count": 53,
   "metadata": {},
   "outputs": [
    {
     "data": {
      "application/vnd.jupyter.widget-view+json": {
       "model_id": "0e90dc25e4c14faf931acfa4bb27569a",
       "version_major": 2,
       "version_minor": 0
      },
      "text/plain": [
       "Map(bottom=4448.0, center=[-2.309670857475097, -66.61359082979233], controls=(WidgetControl(options=['position…"
      ]
     },
     "metadata": {},
     "output_type": "display_data"
    }
   ],
   "source": [
    "Map.addLayer(multiPointFromQuery,{'color':'green'},'MultiPoint Nominatim')\n",
    "Map.centerObject(multiPointFromQuery,5)\n",
    "Map"
   ]
  },
  {
   "cell_type": "markdown",
   "metadata": {},
   "source": [
    "## Creating a MultiPoint with Properties (ee.FeatureCollection)"
   ]
  },
  {
   "cell_type": "markdown",
   "metadata": {},
   "source": [
    "A set of features can be created using the ee.FeatureCollection.MultiPointFromQuery constructor (extended through eemont):"
   ]
  },
  {
   "cell_type": "code",
   "execution_count": 54,
   "metadata": {},
   "outputs": [],
   "source": [
    "multiPointFromQueryFC = ee.FeatureCollection.MultiPointFromQuery(query,user_agent = 'eemont-tutorial-010')"
   ]
  },
  {
   "cell_type": "markdown",
   "metadata": {},
   "source": [
    "Let's check the properties:"
   ]
  },
  {
   "cell_type": "code",
   "execution_count": 55,
   "metadata": {},
   "outputs": [
    {
     "data": {
      "text/plain": [
       "{'type': 'FeatureCollection',\n",
       " 'columns': {'boundingbox': 'List<String>',\n",
       "  'class': 'String',\n",
       "  'display_name': 'String',\n",
       "  'importance': 'Float',\n",
       "  'lat': 'String',\n",
       "  'licence': 'String',\n",
       "  'lon': 'String',\n",
       "  'osm_id': 'Number',\n",
       "  'osm_type': 'String',\n",
       "  'place_id': 'Integer',\n",
       "  'system:index': 'String',\n",
       "  'type': 'String'},\n",
       " 'features': [{'type': 'Feature',\n",
       "   'geometry': {'type': 'Point', 'coordinates': [-63.5185396, -4.479925]},\n",
       "   'id': '0',\n",
       "   'properties': {'boundingbox': ['-9.8180459',\n",
       "     '2.23011',\n",
       "     '-73.7984196',\n",
       "     '-56.097'],\n",
       "    'class': 'boundary',\n",
       "    'display_name': 'Amazonas, Região Norte, Brasil',\n",
       "    'icon': 'https://nominatim.openstreetmap.org/ui/mapicons//poi_boundary_administrative.p.20.png',\n",
       "    'importance': 0.7108827273241386,\n",
       "    'lat': '-4.479925',\n",
       "    'licence': 'Data © OpenStreetMap contributors, ODbL 1.0. https://osm.org/copyright',\n",
       "    'lon': '-63.5185396',\n",
       "    'osm_id': 332476,\n",
       "    'osm_type': 'relation',\n",
       "    'place_id': 258080318,\n",
       "    'type': 'administrative'}},\n",
       "  {'type': 'Feature',\n",
       "   'geometry': {'type': 'Point', 'coordinates': [-78, -5]},\n",
       "   'id': '1',\n",
       "   'properties': {'boundingbox': ['-6.9867594',\n",
       "     '-2.9860745',\n",
       "     '-78.7121777',\n",
       "     '-77.1323027'],\n",
       "    'class': 'boundary',\n",
       "    'display_name': 'Amazonas, Perú',\n",
       "    'icon': 'https://nominatim.openstreetmap.org/ui/mapicons//poi_boundary_administrative.p.20.png',\n",
       "    'importance': 0.5895702362113853,\n",
       "    'lat': '-5',\n",
       "    'licence': 'Data © OpenStreetMap contributors, ODbL 1.0. https://osm.org/copyright',\n",
       "    'lon': '-78',\n",
       "    'osm_id': 1973462,\n",
       "    'osm_type': 'relation',\n",
       "    'place_id': 258473581,\n",
       "    'type': 'administrative'}},\n",
       "  {'type': 'Feature',\n",
       "   'geometry': {'type': 'Point', 'coordinates': [-66, 3.5]},\n",
       "   'id': '2',\n",
       "   'properties': {'boundingbox': ['0.647529',\n",
       "     '6.1987951',\n",
       "     '-67.8643306',\n",
       "     '-63.363197'],\n",
       "    'class': 'boundary',\n",
       "    'display_name': 'Amazonas, Venezuela',\n",
       "    'icon': 'https://nominatim.openstreetmap.org/ui/mapicons//poi_boundary_administrative.p.20.png',\n",
       "    'importance': 0.5885060158874998,\n",
       "    'lat': '3.5',\n",
       "    'licence': 'Data © OpenStreetMap contributors, ODbL 1.0. https://osm.org/copyright',\n",
       "    'lon': '-66',\n",
       "    'osm_id': 2269815,\n",
       "    'osm_type': 'relation',\n",
       "    'place_id': 258627849,\n",
       "    'type': 'administrative'}},\n",
       "  {'type': 'Feature',\n",
       "   'geometry': {'type': 'Point', 'coordinates': [-71.9383333, -1.0197136]},\n",
       "   'id': '3',\n",
       "   'properties': {'boundingbox': ['-4.2316872',\n",
       "     '0.1117569',\n",
       "     '-74.3901656',\n",
       "     '-69.3952343'],\n",
       "    'class': 'boundary',\n",
       "    'display_name': 'Amazonas, Amazonia, Colombia',\n",
       "    'icon': 'https://nominatim.openstreetmap.org/ui/mapicons//poi_boundary_administrative.p.20.png',\n",
       "    'importance': 0.5882173390160759,\n",
       "    'lat': '-1.0197136',\n",
       "    'licence': 'Data © OpenStreetMap contributors, ODbL 1.0. https://osm.org/copyright',\n",
       "    'lon': '-71.9383333',\n",
       "    'osm_id': 1303962,\n",
       "    'osm_type': 'relation',\n",
       "    'place_id': 258072903,\n",
       "    'type': 'administrative'}},\n",
       "  {'type': 'Feature',\n",
       "   'geometry': {'type': 'Point', 'coordinates': [-57.4801276, -2.3740229]},\n",
       "   'id': '4',\n",
       "   'properties': {'boundingbox': ['-4.4421898',\n",
       "     '0.7065296',\n",
       "     '-73.4501259',\n",
       "     '-49.2759133'],\n",
       "    'class': 'waterway',\n",
       "    'display_name': 'Rio Amazonas, Região Norte, 69100-143, Brasil',\n",
       "    'importance': 0.4,\n",
       "    'lat': '-2.3740229',\n",
       "    'licence': 'Data © OpenStreetMap contributors, ODbL 1.0. https://osm.org/copyright',\n",
       "    'lon': '-57.4801276',\n",
       "    'osm_id': 2295651,\n",
       "    'osm_type': 'relation',\n",
       "    'place_id': 258650987,\n",
       "    'type': 'river'}},\n",
       "  {'type': 'Feature',\n",
       "   'geometry': {'type': 'Point', 'coordinates': [-73.2526303, -3.9283075]},\n",
       "   'id': '5',\n",
       "   'properties': {'boundingbox': ['-3.9530423',\n",
       "     '-3.89638',\n",
       "     '-73.258381',\n",
       "     '-73.2364645'],\n",
       "    'class': 'waterway',\n",
       "    'display_name': 'Amazonas, Belén, Maynas, Loreto, Perú',\n",
       "    'importance': 0.385,\n",
       "    'lat': '-3.9283075',\n",
       "    'licence': 'Data © OpenStreetMap contributors, ODbL 1.0. https://osm.org/copyright',\n",
       "    'lon': '-73.2526303',\n",
       "    'osm_id': 619628545,\n",
       "    'osm_type': 'way',\n",
       "    'place_id': 217091545,\n",
       "    'type': 'river'}},\n",
       "  {'type': 'Feature',\n",
       "   'geometry': {'type': 'Point', 'coordinates': [-73.5283314, -4.4601154]},\n",
       "   'id': '6',\n",
       "   'properties': {'boundingbox': ['-4.4801154',\n",
       "     '-4.4401154',\n",
       "     '-73.5483314',\n",
       "     '-73.5083314'],\n",
       "    'class': 'place',\n",
       "    'display_name': 'Amazonas, Nauta, Loreto, Perú',\n",
       "    'icon': 'https://nominatim.openstreetmap.org/ui/mapicons//poi_place_village.p.20.png',\n",
       "    'importance': 0.385,\n",
       "    'lat': '-4.4601154',\n",
       "    'licence': 'Data © OpenStreetMap contributors, ODbL 1.0. https://osm.org/copyright',\n",
       "    'lon': '-73.5283314',\n",
       "    'osm_id': 5366208059,\n",
       "    'osm_type': 'node',\n",
       "    'place_id': 60734404,\n",
       "    'type': 'village'}},\n",
       "  {'type': 'Feature',\n",
       "   'geometry': {'type': 'Point', 'coordinates': [-77.6988449, -2.1629408]},\n",
       "   'id': '7',\n",
       "   'properties': {'boundingbox': ['-2.1829408',\n",
       "     '-2.1429408',\n",
       "     '-77.7188449',\n",
       "     '-77.6788449'],\n",
       "    'class': 'place',\n",
       "    'display_name': 'Amazonas, Macuma, Cantón Taisha, Morona Santiago, Ecuador',\n",
       "    'icon': 'https://nominatim.openstreetmap.org/ui/mapicons//poi_place_village.p.20.png',\n",
       "    'importance': 0.385,\n",
       "    'lat': '-2.1629408',\n",
       "    'licence': 'Data © OpenStreetMap contributors, ODbL 1.0. https://osm.org/copyright',\n",
       "    'lon': '-77.6988449',\n",
       "    'osm_id': 3967333427,\n",
       "    'osm_type': 'node',\n",
       "    'place_id': 48947285,\n",
       "    'type': 'village'}},\n",
       "  {'type': 'Feature',\n",
       "   'geometry': {'type': 'Point', 'coordinates': [-52.8005505, -1.6305629]},\n",
       "   'id': '8',\n",
       "   'properties': {'boundingbox': ['-1.6442518',\n",
       "     '-1.5801141',\n",
       "     '-52.9194198',\n",
       "     '-52.68734'],\n",
       "    'class': 'waterway',\n",
       "    'display_name': 'Rio Amazonas, Almeirim, Microrregião de Almeirim, Região Geográfica Intermediária de Altamira, Pará, Região Norte, Brasil',\n",
       "    'importance': 0.375,\n",
       "    'lat': '-1.6305629',\n",
       "    'licence': 'Data © OpenStreetMap contributors, ODbL 1.0. https://osm.org/copyright',\n",
       "    'lon': '-52.8005505',\n",
       "    'osm_id': 667790311,\n",
       "    'osm_type': 'way',\n",
       "    'place_id': 224026479,\n",
       "    'type': 'river'}},\n",
       "  {'type': 'Feature',\n",
       "   'geometry': {'type': 'Point', 'coordinates': [-51.8253422, -1.2267701]},\n",
       "   'id': '9',\n",
       "   'properties': {'boundingbox': ['-1.2718204',\n",
       "     '-1.1452484',\n",
       "     '-51.8934918',\n",
       "     '-51.7773629'],\n",
       "    'class': 'waterway',\n",
       "    'display_name': 'Rio Amazonas, Gurupá, Microrregião de Portel, Região Geográfica Intermediária de Breves, Pará, Região Norte, Brasil',\n",
       "    'importance': 0.375,\n",
       "    'lat': '-1.2267701',\n",
       "    'licence': 'Data © OpenStreetMap contributors, ODbL 1.0. https://osm.org/copyright',\n",
       "    'lon': '-51.8253422',\n",
       "    'osm_id': 38376974,\n",
       "    'osm_type': 'way',\n",
       "    'place_id': 100073545,\n",
       "    'type': 'river'}}]}"
      ]
     },
     "execution_count": 55,
     "metadata": {},
     "output_type": "execute_result"
    }
   ],
   "source": [
    "multiPointFromQueryFC.getInfo()"
   ]
  }
 ],
 "metadata": {
  "kernelspec": {
   "display_name": "Python 3",
   "language": "python",
   "name": "python3"
  },
  "language_info": {
   "codemirror_mode": {
    "name": "ipython",
    "version": 3
   },
   "file_extension": ".py",
   "mimetype": "text/x-python",
   "name": "python",
   "nbconvert_exporter": "python",
   "pygments_lexer": "ipython3",
   "version": "3.8.3"
  }
 },
 "nbformat": 4,
 "nbformat_minor": 4
}
