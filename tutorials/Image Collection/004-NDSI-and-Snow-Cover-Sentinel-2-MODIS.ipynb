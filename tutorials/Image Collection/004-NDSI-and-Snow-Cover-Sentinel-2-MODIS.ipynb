{
 "cells": [
  {
   "cell_type": "code",
   "execution_count": 1,
   "metadata": {},
   "outputs": [],
   "source": [
    "import ee, eemont, geemap.eefolium as geemap"
   ]
  },
  {
   "cell_type": "code",
   "execution_count": 3,
   "metadata": {},
   "outputs": [],
   "source": [
    "ee.Initialize()"
   ]
  },
  {
   "cell_type": "code",
   "execution_count": null,
   "metadata": {},
   "outputs": [],
   "source": [
    "point = ee.Geometry.Point([-76.0269,2.92846])"
   ]
  },
  {
   "cell_type": "code",
   "execution_count": null,
   "metadata": {},
   "outputs": [],
   "source": [
    "S2 = (ee.ImageCollection('COPERNICUS/S2_SR')\n",
    "      .filterBounds(point)\n",
    "      .sort('CLOUDY_PIXEL_PERCENTAGE')\n",
    "      .first()\n",
    "      .maskClouds()\n",
    "      .scale()\n",
    "      .index('NDSI'))"
   ]
  },
  {
   "cell_type": "code",
   "execution_count": null,
   "metadata": {},
   "outputs": [],
   "source": [
    "NDSI = S2.select('NDSI')\n",
    "N = S2.select('B8')\n",
    "G = S2.select('B3')"
   ]
  },
  {
   "cell_type": "code",
   "execution_count": null,
   "metadata": {},
   "outputs": [],
   "source": [
    "snowPixels = (NDSI > 0.4) & (N >= 0.1) & (G > 0.11)"
   ]
  },
  {
   "cell_type": "code",
   "execution_count": null,
   "metadata": {},
   "outputs": [],
   "source": [
    "NDSI = NDSI.updateMask(snowPixels)"
   ]
  },
  {
   "cell_type": "code",
   "execution_count": null,
   "metadata": {},
   "outputs": [],
   "source": [
    "dateOfInterest = ee.Date(S2.get('system:time_start'))"
   ]
  },
  {
   "cell_type": "code",
   "execution_count": null,
   "metadata": {},
   "outputs": [],
   "source": [
    "MOD10A1 = (ee.ImageCollection('MODIS/006/MOD10A1')\n",
    "           .filterBounds(point)\n",
    "           .closest(dateOfInterest)\n",
    "           .scale() # NEW! Note that the scale() method supports the MOD10A1 product!\n",
    "           .first())"
   ]
  },
  {
   "cell_type": "code",
   "execution_count": null,
   "metadata": {},
   "outputs": [],
   "source": [
    "NDSI_MODIS = MOD10A1.select('NDSI')\n",
    "NDSI_MODIS = NDSI_MODIS.updateMask(NDSI_MODIS > 0.4)"
   ]
  },
  {
   "cell_type": "code",
   "execution_count": null,
   "metadata": {},
   "outputs": [],
   "source": [
    "visNDSI = {\n",
    "    'min':0.4,\n",
    "    'max':1,\n",
    "    'palette': ['black', '0dffff', '0524ff', 'ffffff']\n",
    "}"
   ]
  },
  {
   "cell_type": "code",
   "execution_count": null,
   "metadata": {},
   "outputs": [],
   "source": [
    "visRGB = {\n",
    "    'min':0,\n",
    "    'max':0.3,\n",
    "    'bands':['B4', 'B3', 'B2']\n",
    "}"
   ]
  },
  {
   "cell_type": "code",
   "execution_count": null,
   "metadata": {},
   "outputs": [],
   "source": [
    "Map = geemap.Map()\n",
    "Map.addLayer(S2,visRGB,'Sentinel-2 RGB')\n",
    "Map.addLayer(NDSI_MODIS,visNDSI,'MODIS NDSI')\n",
    "Map.addLayer(NDSI,visNDSI,'Sentinel-2 NDSI')\n",
    "Map.centerObject(point,13)\n",
    "Map.addLayerControl()\n",
    "Map"
   ]
  }
 ],
 "metadata": {
  "kernelspec": {
   "display_name": "Python 3",
   "language": "python",
   "name": "python3"
  },
  "language_info": {
   "codemirror_mode": {
    "name": "ipython",
    "version": 3
   },
   "file_extension": ".py",
   "mimetype": "text/x-python",
   "name": "python",
   "nbconvert_exporter": "python",
   "pygments_lexer": "ipython3",
   "version": "3.8.3"
  }
 },
 "nbformat": 4,
 "nbformat_minor": 4
}
