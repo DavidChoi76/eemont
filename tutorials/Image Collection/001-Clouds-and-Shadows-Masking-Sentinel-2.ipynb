{
  "nbformat": 4,
  "nbformat_minor": 0,
  "metadata": {
    "kernelspec": {
      "display_name": "Python 3",
      "language": "python",
      "name": "python3"
    },
    "language_info": {
      "codemirror_mode": {
        "name": "ipython",
        "version": 3
      },
      "file_extension": ".py",
      "mimetype": "text/x-python",
      "name": "python",
      "nbconvert_exporter": "python",
      "pygments_lexer": "ipython3",
      "version": "3.8.3"
    },
    "colab": {
      "name": "001-Clouds-and-Shadows-Masking-Sentinel-2.ipynb",
      "provenance": [],
      "include_colab_link": true
    }
  },
  "cells": [
    {
      "cell_type": "markdown",
      "metadata": {
        "id": "view-in-github",
        "colab_type": "text"
      },
      "source": [
        "<a href=\"https://colab.research.google.com/github/davemlz/eemont/blob/master/tutorials/Image%20Collection/001-Clouds-and-Shadows-Masking-Sentinel-2.ipynb\" target=\"_parent\"><img src=\"https://colab.research.google.com/assets/colab-badge.svg\" alt=\"Open In Colab\"/></a>"
      ]
    },
    {
      "cell_type": "markdown",
      "metadata": {
        "id": "jZEthLln92Ep"
      },
      "source": [
        "# Clouds/Shadows Masking on Sentinel-2 Surface Reflectance Product"
      ]
    },
    {
      "cell_type": "markdown",
      "metadata": {
        "id": "CD7h0hbi92Er"
      },
      "source": [
        "## Starting"
      ]
    },
    {
      "cell_type": "markdown",
      "metadata": {
        "id": "E0rc6Cya92Es"
      },
      "source": [
        "If required, please uncomment:"
      ]
    },
    {
      "cell_type": "code",
      "metadata": {
        "id": "NYzyvKtk92Es"
      },
      "source": [
        "#!pip install earthengine-api\n",
        "#!pip install eemont\n",
        "#!pip install geemap"
      ],
      "execution_count": null,
      "outputs": []
    },
    {
      "cell_type": "markdown",
      "metadata": {
        "id": "x3Rm3qt_92Et"
      },
      "source": [
        "Import the required packges."
      ]
    },
    {
      "cell_type": "code",
      "metadata": {
        "id": "H0C9S_Hh92Et"
      },
      "source": [
        "import ee, eemont, geemap.eefolium as geemap"
      ],
      "execution_count": null,
      "outputs": []
    },
    {
      "cell_type": "markdown",
      "metadata": {
        "id": "k1sdX2p592Eu"
      },
      "source": [
        "If required (e.g. in Google Colab), please uncomment:"
      ]
    },
    {
      "cell_type": "code",
      "metadata": {
        "id": "sounrvSq92Eu"
      },
      "source": [
        "#ee.Authenticate()"
      ],
      "execution_count": null,
      "outputs": []
    },
    {
      "cell_type": "markdown",
      "metadata": {
        "id": "q1eLM9dO92Ex"
      },
      "source": [
        "Initialize Google Earth Engine."
      ]
    },
    {
      "cell_type": "code",
      "metadata": {
        "id": "LojrnTGB92Ex"
      },
      "source": [
        "ee.Initialize()"
      ],
      "execution_count": null,
      "outputs": []
    },
    {
      "cell_type": "markdown",
      "metadata": {
        "id": "rhUlnVbq92Ey"
      },
      "source": [
        "Example point of interest to filter the image collection."
      ]
    },
    {
      "cell_type": "code",
      "metadata": {
        "id": "ctBHy0dx92Ey"
      },
      "source": [
        "point = ee.Geometry.Point([-75.92, 2.86])"
      ],
      "execution_count": null,
      "outputs": []
    },
    {
      "cell_type": "markdown",
      "metadata": {
        "id": "FYguKZh892Ey"
      },
      "source": [
        "Get and filter the Sentinel-2 Surface Reflectance image collection and filter it by region and time."
      ]
    },
    {
      "cell_type": "code",
      "metadata": {
        "id": "sBmM9kZn92Ez"
      },
      "source": [
        "S2 = (ee.ImageCollection('COPERNICUS/S2_SR')\n",
        "      .filterBounds(point)\n",
        "      .filterDate('2020-01-01','2021-01-01'))"
      ],
      "execution_count": null,
      "outputs": []
    },
    {
      "cell_type": "markdown",
      "metadata": {
        "id": "cQJMPJVS92Ez"
      },
      "source": [
        "## Clouds/Shadows Masking\n",
        "Multiple options are included in this feature, let's take a look at them:"
      ]
    },
    {
      "cell_type": "markdown",
      "metadata": {
        "id": "AVKJYR8h92Ez"
      },
      "source": [
        "### 1. Quality Assessment masking\n",
        "Here, the Quality Assessment band is used for masking."
      ]
    },
    {
      "cell_type": "code",
      "metadata": {
        "id": "d4aNNSuq92E0"
      },
      "source": [
        "S2a = S2.maskClouds(method = 'qa')"
      ],
      "execution_count": null,
      "outputs": []
    },
    {
      "cell_type": "markdown",
      "metadata": {
        "id": "rpSYJilf92E0"
      },
      "source": [
        "### 2. Quality Assessment masking (without masking cirrus clouds)\n",
        "By default, cirrus clouds are masked, but if required, the *maskCirrus* parameter can be set to *False*."
      ]
    },
    {
      "cell_type": "code",
      "metadata": {
        "id": "skOWcbuG92E0"
      },
      "source": [
        "S2b = S2.maskClouds(method = 'qa', maskCirrus = False)"
      ],
      "execution_count": null,
      "outputs": []
    },
    {
      "cell_type": "markdown",
      "metadata": {
        "id": "RZhZmyJ-92E1"
      },
      "source": [
        "### 3. Cloud Probability masking\n",
        "Cloud Probability masking is the default method to mask clouds and shadows in Sentinel-2 (method = 'cloud_prob'). By default, the Cloud Probability threshold is 60% (prob = 60)."
      ]
    },
    {
      "cell_type": "code",
      "metadata": {
        "id": "RckbgfIl92E1"
      },
      "source": [
        "S2c = S2.maskClouds()"
      ],
      "execution_count": null,
      "outputs": []
    },
    {
      "cell_type": "markdown",
      "metadata": {
        "id": "Dgt4Pcn092E1"
      },
      "source": [
        "### 4. Cloud Probability masking with a different threshold value\n",
        "The threshold value for Cloud Probability can be changed. Values in the range [0.0, 100.0] are accepted."
      ]
    },
    {
      "cell_type": "code",
      "metadata": {
        "id": "Z8VUud_x92E2"
      },
      "source": [
        "S2d = S2.maskClouds(prob = 75)"
      ],
      "execution_count": null,
      "outputs": []
    },
    {
      "cell_type": "markdown",
      "metadata": {
        "id": "jadK1cD192E2"
      },
      "source": [
        "### 5. Cloud Probability masking with a different buffer value\n",
        "By default, clouds and shadows are dilated by a 250 m buffer to avoid border effects. This value can be changed by modifying the *buffer* parameter."
      ]
    },
    {
      "cell_type": "code",
      "metadata": {
        "id": "89OTEdoe92E2"
      },
      "source": [
        "S2e = S2.maskClouds(buffer = 500)"
      ],
      "execution_count": null,
      "outputs": []
    },
    {
      "cell_type": "markdown",
      "metadata": {
        "id": "TTQvuymh92E2"
      },
      "source": [
        "### 6. Cloud Probability masking with a different NIR threshold\n",
        "By default, NIR values under 0.15 are considered potential cloud shadows. This value can be changed by modifying the *dark* parameter."
      ]
    },
    {
      "cell_type": "code",
      "metadata": {
        "id": "lOyQn5dV92E3"
      },
      "source": [
        "S2f = S2.maskClouds(dark = 0.1)"
      ],
      "execution_count": null,
      "outputs": []
    },
    {
      "cell_type": "markdown",
      "metadata": {
        "id": "KHTKqdIc92E3"
      },
      "source": [
        "### 7. Cloud Probability masking with a different shadow search range\n",
        "By default, cloud shadows are searched whithin a 1000 m distance from cloud edges in the shadow direction. This value can be changed by modifying the *cloudDist* parameter."
      ]
    },
    {
      "cell_type": "code",
      "metadata": {
        "id": "tZ0x3yCC92E3"
      },
      "source": [
        "S2g = S2.maskClouds(cloudDist = 2000)"
      ],
      "execution_count": null,
      "outputs": []
    },
    {
      "cell_type": "markdown",
      "metadata": {
        "id": "piMm3-P792E4"
      },
      "source": [
        "### 8. Cloud Probability masking using the Cloud Displacement Index (CDI)\n",
        "CDI is an index used to avoid masking bright surfaces as clouds. By default, CDI is not used, but if required, the CDI value can be changed by modifying the *cdi* parameter. CDI values go from -1 to 1. The most used value for cloud masking is -0.5."
      ]
    },
    {
      "cell_type": "code",
      "metadata": {
        "id": "kSRq-H-A92E4"
      },
      "source": [
        "S2h = S2.maskClouds(cdi = -0.5)"
      ],
      "execution_count": null,
      "outputs": []
    },
    {
      "cell_type": "markdown",
      "metadata": {
        "id": "kl0IT0Pa92E4"
      },
      "source": [
        "### 9. Cloud Probability masking (without masking shadows)\n",
        "By default, shadows are masked as well as clouds, but if required, the *maskShadows* parameter can be set to *False*. This option is available for 'qa' and 'cloud_prob' methods."
      ]
    },
    {
      "cell_type": "code",
      "metadata": {
        "id": "xj2frEuD92E4"
      },
      "source": [
        "S2i = S2.maskClouds(maskShadows = False)"
      ],
      "execution_count": null,
      "outputs": []
    },
    {
      "cell_type": "markdown",
      "metadata": {
        "id": "cj7GKHy592E5"
      },
      "source": [
        "### 10. Cloud Probability masking of a scaled image (pixel values in [0, 1])\n",
        "By default, clouds and shadows are masked on unscaled image collections, but if the collection is scaled, the *scaledImage* MUST be set to *True*."
      ]
    },
    {
      "cell_type": "code",
      "metadata": {
        "id": "ryc4zlAW92E5"
      },
      "source": [
        "S2j = S2.scale().maskClouds(scaledImage = True)"
      ],
      "execution_count": null,
      "outputs": []
    },
    {
      "cell_type": "markdown",
      "metadata": {
        "id": "sOi-jAd_92E5"
      },
      "source": [
        "## Visualization"
      ]
    },
    {
      "cell_type": "markdown",
      "metadata": {
        "id": "1JgG9LhO92E5"
      },
      "source": [
        "Set the visualization parameters."
      ]
    },
    {
      "cell_type": "code",
      "metadata": {
        "id": "ja17rT6g92E6"
      },
      "source": [
        "rgbUnscaled = {'min':0, 'max':3000, 'bands':['B4','B3','B2']}\n",
        "rgbScaled = {'min':0, 'max':0.3, 'bands':['B4','B3','B2']}"
      ],
      "execution_count": null,
      "outputs": []
    },
    {
      "cell_type": "markdown",
      "metadata": {
        "id": "dyccJWBu92E6"
      },
      "source": [
        "Use geemap to display results."
      ]
    },
    {
      "cell_type": "code",
      "metadata": {
        "id": "9ODWuQeb92E6",
        "outputId": "1a6ec235-9de6-4a50-84eb-61aa5aa80749"
      },
      "source": [
        "Map = geemap.Map()\n",
        "Map.centerObject(point)\n",
        "Map.addLayer(S2a.first(),rgbUnscaled,'QA masking')\n",
        "Map.addLayer(S2b.first(),rgbUnscaled,'QA masking with no cirrus masking')\n",
        "Map.addLayer(S2c.first(),rgbUnscaled,'60% Cloud Probability masking')\n",
        "Map.addLayer(S2d.first(),rgbUnscaled,'75% Cloud Probability masking')\n",
        "Map.addLayer(S2e.first(),rgbUnscaled,'60% Cloud Probability masking with a 500 m dilation')\n",
        "Map.addLayer(S2f.first(),rgbUnscaled,'60% Cloud Probability masking with a 0.1 NIR threshold')\n",
        "Map.addLayer(S2g.first(),rgbUnscaled,'60% Cloud Probability masking with a 2000 m cloud shadow search range')\n",
        "Map.addLayer(S2h.first(),rgbUnscaled,'60% Cloud Probability masking with a CDI of -0.5')\n",
        "Map.addLayer(S2i.first(),rgbUnscaled,'60% Cloud Probability masking with no shadow masking')\n",
        "Map.addLayer(S2j.first(),rgbScaled,'60% Cloud Probability masking of a scaled image')\n",
        "Map.addLayerControl()\n",
        "Map"
      ],
      "execution_count": null,
      "outputs": [
        {
          "output_type": "execute_result",
          "data": {
            "text/html": [
              "<div style=\"width:100%;\"><div style=\"position:relative;width:100%;height:0;padding-bottom:60%;\"><iframe src=\"data:text/html;charset=utf-8;base64,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\" style=\"position:absolute;width:100%;height:100%;left:0;top:0;border:none !important;\" allowfullscreen webkitallowfullscreen mozallowfullscreen></iframe></div></div>"
            ],
            "text/plain": [
              "<geemap.eefolium.Map at 0xaeaf520>"
            ]
          },
          "metadata": {
            "tags": []
          },
          "execution_count": 18
        }
      ]
    }
  ]
}