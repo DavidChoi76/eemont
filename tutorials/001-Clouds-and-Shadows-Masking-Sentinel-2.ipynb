{
 "cells": [
  {
   "cell_type": "markdown",
   "metadata": {
    "colab_type": "text",
    "id": "view-in-github"
   },
   "source": [
    "<a href=\"https://colab.research.google.com/github/davemlz/eemont/blob/master/tutorials/Image%20Collection/001-Clouds-and-Shadows-Masking-Sentinel-2.ipynb\" target=\"_parent\"><img src=\"https://colab.research.google.com/assets/colab-badge.svg\" alt=\"Open In Colab\"/></a>"
   ]
  },
  {
   "cell_type": "markdown",
   "metadata": {
    "id": "jZEthLln92Ep"
   },
   "source": [
    "# Clouds/Shadows Masking on Sentinel-2 Surface Reflectance Product"
   ]
  },
  {
   "cell_type": "markdown",
   "metadata": {
    "id": "CD7h0hbi92Er"
   },
   "source": [
    "## Let's start!"
   ]
  },
  {
   "cell_type": "markdown",
   "metadata": {
    "id": "E0rc6Cya92Es"
   },
   "source": [
    "If required, please uncomment:"
   ]
  },
  {
   "cell_type": "code",
   "execution_count": 15,
   "metadata": {
    "id": "NYzyvKtk92Es"
   },
   "outputs": [],
   "source": [
    "#!pip install earthengine-api\n",
    "#!pip install eemont\n",
    "#!pip install geemap"
   ]
  },
  {
   "cell_type": "markdown",
   "metadata": {
    "id": "x3Rm3qt_92Et"
   },
   "source": [
    "Import the required packges."
   ]
  },
  {
   "cell_type": "code",
   "execution_count": 16,
   "metadata": {
    "id": "H0C9S_Hh92Et"
   },
   "outputs": [],
   "source": [
    "import ee, eemont, geemap.eefolium as geemap"
   ]
  },
  {
   "cell_type": "markdown",
   "metadata": {
    "id": "k1sdX2p592Eu"
   },
   "source": [
    "If required (e.g. in Google Colab), please uncomment:"
   ]
  },
  {
   "cell_type": "code",
   "execution_count": 17,
   "metadata": {
    "id": "sounrvSq92Eu"
   },
   "outputs": [],
   "source": [
    "#ee.Authenticate()"
   ]
  },
  {
   "cell_type": "markdown",
   "metadata": {
    "id": "q1eLM9dO92Ex"
   },
   "source": [
    "Initialize Google Earth Engine."
   ]
  },
  {
   "cell_type": "code",
   "execution_count": 18,
   "metadata": {
    "id": "LojrnTGB92Ex"
   },
   "outputs": [],
   "source": [
    "ee.Initialize()"
   ]
  },
  {
   "cell_type": "markdown",
   "metadata": {
    "id": "rhUlnVbq92Ey"
   },
   "source": [
    "Example point of interest to filter the image collection."
   ]
  },
  {
   "cell_type": "code",
   "execution_count": 19,
   "metadata": {
    "id": "ctBHy0dx92Ey"
   },
   "outputs": [],
   "source": [
    "point = ee.Geometry.Point([-75.92, 2.86])"
   ]
  },
  {
   "cell_type": "markdown",
   "metadata": {
    "id": "FYguKZh892Ey"
   },
   "source": [
    "Get and filter the Sentinel-2 Surface Reflectance image collection and filter it by region and time."
   ]
  },
  {
   "cell_type": "code",
   "execution_count": 20,
   "metadata": {
    "id": "sBmM9kZn92Ez"
   },
   "outputs": [],
   "source": [
    "S2 = (ee.ImageCollection('COPERNICUS/S2_SR')\n",
    "      .filterBounds(point)\n",
    "      .filterDate('2020-01-01','2021-01-01'))"
   ]
  },
  {
   "cell_type": "markdown",
   "metadata": {
    "id": "cQJMPJVS92Ez"
   },
   "source": [
    "## Clouds/Shadows Masking\n",
    "Multiple options are included in this feature, let's take a look at them:"
   ]
  },
  {
   "cell_type": "markdown",
   "metadata": {
    "id": "AVKJYR8h92Ez"
   },
   "source": [
    "### 1. Quality Assessment masking\n",
    "Here, the Quality Assessment band is used for masking."
   ]
  },
  {
   "cell_type": "code",
   "execution_count": 21,
   "metadata": {
    "id": "d4aNNSuq92E0"
   },
   "outputs": [],
   "source": [
    "S2a = S2.maskClouds(method = 'qa')"
   ]
  },
  {
   "cell_type": "markdown",
   "metadata": {
    "id": "rpSYJilf92E0"
   },
   "source": [
    "### 2. Quality Assessment masking (without masking cirrus clouds)\n",
    "By default, cirrus clouds are masked, but if required, the *maskCirrus* parameter can be set to *False*."
   ]
  },
  {
   "cell_type": "code",
   "execution_count": 8,
   "metadata": {
    "id": "skOWcbuG92E0"
   },
   "outputs": [],
   "source": [
    "S2b = S2.maskClouds(method = 'qa', maskCirrus = False)"
   ]
  },
  {
   "cell_type": "markdown",
   "metadata": {
    "id": "RZhZmyJ-92E1"
   },
   "source": [
    "### 3. Cloud Probability masking\n",
    "Cloud Probability masking is the default method to mask clouds and shadows in Sentinel-2 (method = 'cloud_prob'). By default, the Cloud Probability threshold is 60% (prob = 60)."
   ]
  },
  {
   "cell_type": "code",
   "execution_count": 9,
   "metadata": {
    "id": "RckbgfIl92E1"
   },
   "outputs": [],
   "source": [
    "S2c = S2.maskClouds()"
   ]
  },
  {
   "cell_type": "markdown",
   "metadata": {
    "id": "Dgt4Pcn092E1"
   },
   "source": [
    "### 4. Cloud Probability masking with a different threshold value\n",
    "The threshold value for Cloud Probability can be changed. Values in the range [0.0, 100.0] are accepted."
   ]
  },
  {
   "cell_type": "code",
   "execution_count": 10,
   "metadata": {
    "id": "Z8VUud_x92E2"
   },
   "outputs": [],
   "source": [
    "S2d = S2.maskClouds(prob = 75)"
   ]
  },
  {
   "cell_type": "markdown",
   "metadata": {
    "id": "jadK1cD192E2"
   },
   "source": [
    "### 5. Cloud Probability masking with a different buffer value\n",
    "By default, clouds and shadows are dilated by a 250 m buffer to avoid border effects. This value can be changed by modifying the *buffer* parameter."
   ]
  },
  {
   "cell_type": "code",
   "execution_count": 11,
   "metadata": {
    "id": "89OTEdoe92E2"
   },
   "outputs": [],
   "source": [
    "S2e = S2.maskClouds(buffer = 500)"
   ]
  },
  {
   "cell_type": "markdown",
   "metadata": {
    "id": "TTQvuymh92E2"
   },
   "source": [
    "### 6. Cloud Probability masking with a different NIR threshold\n",
    "By default, NIR values under 0.15 are considered potential cloud shadows. This value can be changed by modifying the *dark* parameter."
   ]
  },
  {
   "cell_type": "code",
   "execution_count": 12,
   "metadata": {
    "id": "lOyQn5dV92E3"
   },
   "outputs": [],
   "source": [
    "S2f = S2.maskClouds(dark = 0.1)"
   ]
  },
  {
   "cell_type": "markdown",
   "metadata": {
    "id": "KHTKqdIc92E3"
   },
   "source": [
    "### 7. Cloud Probability masking with a different shadow search range\n",
    "By default, cloud shadows are searched whithin a 1000 m distance from cloud edges in the shadow direction. This value can be changed by modifying the *cloudDist* parameter."
   ]
  },
  {
   "cell_type": "code",
   "execution_count": 13,
   "metadata": {
    "id": "tZ0x3yCC92E3"
   },
   "outputs": [],
   "source": [
    "S2g = S2.maskClouds(cloudDist = 2000)"
   ]
  },
  {
   "cell_type": "markdown",
   "metadata": {
    "id": "piMm3-P792E4"
   },
   "source": [
    "### 8. Cloud Probability masking using the Cloud Displacement Index (CDI)\n",
    "CDI is an index used to avoid masking bright surfaces as clouds. By default, CDI is not used, but if required, the CDI value can be changed by modifying the *cdi* parameter. CDI values go from -1 to 1. The most used value for cloud masking is -0.5."
   ]
  },
  {
   "cell_type": "code",
   "execution_count": 14,
   "metadata": {
    "id": "kSRq-H-A92E4"
   },
   "outputs": [],
   "source": [
    "S2h = S2.maskClouds(cdi = -0.5)"
   ]
  },
  {
   "cell_type": "markdown",
   "metadata": {
    "id": "kl0IT0Pa92E4"
   },
   "source": [
    "### 9. Cloud Probability masking (without masking shadows)\n",
    "By default, shadows are masked as well as clouds, but if required, the *maskShadows* parameter can be set to *False*. This option is available for 'qa' and 'cloud_prob' methods."
   ]
  },
  {
   "cell_type": "code",
   "execution_count": 15,
   "metadata": {
    "id": "xj2frEuD92E4"
   },
   "outputs": [],
   "source": [
    "S2i = S2.maskClouds(maskShadows = False)"
   ]
  },
  {
   "cell_type": "markdown",
   "metadata": {
    "id": "cj7GKHy592E5"
   },
   "source": [
    "### 10. Cloud Probability masking of a scaled image (pixel values in [0, 1])\n",
    "By default, clouds and shadows are masked on unscaled image collections, but if the collection is scaled, the *scaledImage* MUST be set to *True*."
   ]
  },
  {
   "cell_type": "code",
   "execution_count": 16,
   "metadata": {
    "id": "ryc4zlAW92E5"
   },
   "outputs": [],
   "source": [
    "S2j = S2.scale().maskClouds(scaledImage = True)"
   ]
  },
  {
   "cell_type": "markdown",
   "metadata": {
    "id": "sOi-jAd_92E5"
   },
   "source": [
    "## Visualization"
   ]
  },
  {
   "cell_type": "markdown",
   "metadata": {
    "id": "1JgG9LhO92E5"
   },
   "source": [
    "Set the visualization parameters."
   ]
  },
  {
   "cell_type": "code",
   "execution_count": 17,
   "metadata": {
    "id": "ja17rT6g92E6"
   },
   "outputs": [],
   "source": [
    "rgbUnscaled = {'min':0, 'max':3000, 'bands':['B4','B3','B2']}\n",
    "rgbScaled = {'min':0, 'max':0.3, 'bands':['B4','B3','B2']}"
   ]
  },
  {
   "cell_type": "markdown",
   "metadata": {
    "id": "dyccJWBu92E6"
   },
   "source": [
    "Use geemap to display results."
   ]
  },
  {
   "cell_type": "code",
   "execution_count": 18,
   "metadata": {
    "colab": {
     "base_uri": "https://localhost:8080/",
     "height": 1000
    },
    "id": "9ODWuQeb92E6",
    "outputId": "b585417e-ba56-480b-a6c7-2f5402a770f6"
   },
   "outputs": [
    {
     "data": {
      "text/html": [
       "<div style=\"width:100%;\"><div style=\"position:relative;width:100%;height:0;padding-bottom:60%;\"><iframe src=\"data:text/html;charset=utf-8;base64,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\" style=\"position:absolute;width:100%;height:100%;left:0;top:0;border:none !important;\" allowfullscreen webkitallowfullscreen mozallowfullscreen></iframe></div></div>"
      ],
      "text/plain": [
       "<geemap.eefolium.Map at 0xaaf1640>"
      ]
     },
     "execution_count": 18,
     "metadata": {},
     "output_type": "execute_result"
    }
   ],
   "source": [
    "Map = geemap.Map()\n",
    "Map.centerObject(point)\n",
    "Map.addLayer(S2.first(),rgbUnscaled,'No Clouds/Shadows masking')\n",
    "Map.addLayer(S2a.first(),rgbUnscaled,'QA masking')\n",
    "Map.addLayer(S2b.first(),rgbUnscaled,'QA masking with no cirrus masking')\n",
    "Map.addLayer(S2c.first(),rgbUnscaled,'60% Cloud Probability masking')\n",
    "Map.addLayer(S2d.first(),rgbUnscaled,'75% Cloud Probability masking')\n",
    "Map.addLayer(S2e.first(),rgbUnscaled,'60% Cloud Probability masking with a 500 m dilation')\n",
    "Map.addLayer(S2f.first(),rgbUnscaled,'60% Cloud Probability masking with a 0.1 NIR threshold')\n",
    "Map.addLayer(S2g.first(),rgbUnscaled,'60% Cloud Probability masking with a 2000 m cloud shadow search range')\n",
    "Map.addLayer(S2h.first(),rgbUnscaled,'60% Cloud Probability masking with a CDI of -0.5')\n",
    "Map.addLayer(S2i.first(),rgbUnscaled,'60% Cloud Probability masking with no shadow masking')\n",
    "Map.addLayer(S2j.first(),rgbScaled,'60% Cloud Probability masking of a scaled image')\n",
    "Map.addLayerControl()\n",
    "Map"
   ]
  }
 ],
 "metadata": {
  "colab": {
   "include_colab_link": true,
   "name": "001-Clouds-and-Shadows-Masking-Sentinel-2.ipynb",
   "provenance": []
  },
  "kernelspec": {
   "display_name": "Python 3",
   "language": "python",
   "name": "python3"
  },
  "language_info": {
   "codemirror_mode": {
    "name": "ipython",
    "version": 3
   },
   "file_extension": ".py",
   "mimetype": "text/x-python",
   "name": "python",
   "nbconvert_exporter": "python",
   "pygments_lexer": "ipython3",
   "version": "3.8.3"
  }
 },
 "nbformat": 4,
 "nbformat_minor": 4
}
