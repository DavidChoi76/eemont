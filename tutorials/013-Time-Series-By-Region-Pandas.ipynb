{
 "cells": [
  {
   "cell_type": "markdown",
   "metadata": {},
   "source": [
    "<a href=\"https://colab.research.google.com/github/davemlz/eemont/blob/master/tutorials/013-Time-Series-By-Region-Pandas.ipynb\" target=\"_parent\"><img src=\"https://colab.research.google.com/assets/colab-badge.svg\" alt=\"Open In Colab\"/></a>"
   ]
  },
  {
   "cell_type": "markdown",
   "metadata": {
    "id": "jZEthLln92Ep"
   },
   "source": [
    "# Time Series By Region (with Conversion to Pandas and Visualization with Seaborn)"
   ]
  },
  {
   "cell_type": "markdown",
   "metadata": {
    "id": "dNa470OZ8Oec"
   },
   "source": [
    "- GitHub Repo: [https://github.com/davemlz/eemont](https://github.com/davemlz/eemont)\n",
    "- PyPI link: [https://pypi.org/project/eemont/](https://pypi.org/project/eemont/)\n",
    "- Documentation: [https://eemont.readthedocs.io/en/0.1.8/index.html](https://eemont.readthedocs.io/en/0.1.8/index.html)\n",
    "- More tutorials: [https://github.com/davemlz/eemont/tree/master/tutorials](https://github.com/davemlz/eemont/tree/master/tutorials)"
   ]
  },
  {
   "cell_type": "markdown",
   "metadata": {
    "id": "CD7h0hbi92Er"
   },
   "source": [
    "## Let's start!"
   ]
  },
  {
   "cell_type": "markdown",
   "metadata": {
    "id": "E0rc6Cya92Es"
   },
   "source": [
    "If required, please uncomment:"
   ]
  },
  {
   "cell_type": "code",
   "execution_count": null,
   "metadata": {
    "id": "NYzyvKtk92Es"
   },
   "outputs": [],
   "source": [
    "#!pip install eemont\n",
    "#!pip install geemap"
   ]
  },
  {
   "cell_type": "markdown",
   "metadata": {
    "id": "x3Rm3qt_92Et"
   },
   "source": [
    "Import the required packges."
   ]
  },
  {
   "cell_type": "code",
   "execution_count": null,
   "metadata": {
    "id": "H0C9S_Hh92Et"
   },
   "outputs": [],
   "source": [
    "import ee, eemont, geemap\n",
    "import pandas as pd\n",
    "import numpy as np\n",
    "import seaborn as sns\n",
    "from matplotlib import pyplot as plt"
   ]
  },
  {
   "cell_type": "markdown",
   "metadata": {
    "id": "k1sdX2p592Eu"
   },
   "source": [
    "Authenticate and Initialize Earth Engine and geemap."
   ]
  },
  {
   "cell_type": "code",
   "execution_count": null,
   "metadata": {
    "id": "7QDXqVwy8Oef"
   },
   "outputs": [],
   "source": [
    "Map = geemap.Map()"
   ]
  },
  {
   "cell_type": "markdown",
   "metadata": {},
   "source": [
    "Let's use a buffered point for the time series!"
   ]
  },
  {
   "cell_type": "code",
   "execution_count": null,
   "metadata": {},
   "outputs": [],
   "source": [
    "point = ee.Geometry.Point([11.178576,51.122064]).buffer(100)"
   ]
  },
  {
   "cell_type": "markdown",
   "metadata": {},
   "source": [
    "Let's pre-process and process our image collection:"
   ]
  },
  {
   "cell_type": "code",
   "execution_count": null,
   "metadata": {},
   "outputs": [],
   "source": [
    "L8 = (ee.ImageCollection('LANDSAT/LC08/C01/T1_SR')\n",
    "      .filterBounds(point)\n",
    "      .maskClouds()\n",
    "      .scale()\n",
    "      .index(['GNDVI','EVI']))"
   ]
  },
  {
   "cell_type": "markdown",
   "metadata": {},
   "source": [
    "## Time Series By Region"
   ]
  },
  {
   "cell_type": "markdown",
   "metadata": {},
   "source": [
    "Let's get the L8 time series for our buffer. Checklist:\n",
    "\n",
    "- Image Collection: The Landsat 8 collection.\n",
    "- Bands to use for the time series: GNDVI and EVI.\n",
    "- Geometry: Our buffered point.\n",
    "- Statistics to compute: Minimum, Mean, and Maximum.\n",
    "- Scale: 30 m."
   ]
  },
  {
   "cell_type": "code",
   "execution_count": null,
   "metadata": {},
   "outputs": [],
   "source": [
    "ts = L8.getTimeSeriesByRegion(geometry = point,\n",
    "                              bands = ['EVI','GNDVI'],\n",
    "                              reducer = [ee.Reducer.min(),ee.Reducer.mean(),ee.Reducer.max()],\n",
    "                              scale = 30)"
   ]
  },
  {
   "cell_type": "markdown",
   "metadata": {},
   "source": [
    "## Conversion to Pandas"
   ]
  },
  {
   "cell_type": "markdown",
   "metadata": {},
   "source": [
    "The time series is retrieved as a feature collection. To convert it to a pandas dataframe we'll use `geemap` (This may take a little bit):"
   ]
  },
  {
   "cell_type": "code",
   "execution_count": null,
   "metadata": {},
   "outputs": [],
   "source": [
    "tsPandas = geemap.ee_to_pandas(ts)"
   ]
  },
  {
   "cell_type": "markdown",
   "metadata": {},
   "source": [
    "Let's check our pandas data frame:"
   ]
  },
  {
   "cell_type": "code",
   "execution_count": null,
   "metadata": {},
   "outputs": [],
   "source": [
    "tsPandas"
   ]
  },
  {
   "cell_type": "markdown",
   "metadata": {},
   "source": [
    "What can we see here?\n",
    "\n",
    "- The values for each band (GNDVI and EVI) are in separated columns.\n",
    "- There are some -9999 values in the GNDVI and EVI columns. These values represent the NA values (e.g. Clouds or shadows). The -9999 can be changed by modifying the `naValue` parameter in the `getTimeSeriesByRegion` method (e.g. `naValue = -10000`).\n",
    "- Multiple reducers can be used. In the output dataframe they are specified by a single column named `reducer`: min, mean, max.\n",
    "- The date is a string that needs to be converted to a date data type.\n",
    "\n",
    "Given this, let's curate our data frame!"
   ]
  },
  {
   "cell_type": "markdown",
   "metadata": {},
   "source": [
    "First, let's get rid of the -9999 value:"
   ]
  },
  {
   "cell_type": "code",
   "execution_count": null,
   "metadata": {},
   "outputs": [],
   "source": [
    "tsPandas[tsPandas == -9999] = np.nan"
   ]
  },
  {
   "cell_type": "markdown",
   "metadata": {},
   "source": [
    "And now, let's convert the date to a date data type:"
   ]
  },
  {
   "cell_type": "code",
   "execution_count": null,
   "metadata": {},
   "outputs": [],
   "source": [
    "tsPandas['date'] = pd.to_datetime(tsPandas['date'],infer_datetime_format = True)"
   ]
  },
  {
   "cell_type": "markdown",
   "metadata": {},
   "source": [
    "We can also gather the GNDVI and EVI columns into a single column to make the data frame more 'tidy-er' (This is optional):"
   ]
  },
  {
   "cell_type": "code",
   "execution_count": null,
   "metadata": {},
   "outputs": [],
   "source": [
    "tsPandas = pd.melt(tsPandas,\n",
    "                   id_vars = ['system:index','reducer','date'],\n",
    "                   value_vars = ['GNDVI','EVI'],\n",
    "                   var_name = 'Index',\n",
    "                   value_name = 'Value')"
   ]
  },
  {
   "cell_type": "markdown",
   "metadata": {},
   "source": [
    "Let's check our curated data frame:"
   ]
  },
  {
   "cell_type": "code",
   "execution_count": null,
   "metadata": {},
   "outputs": [],
   "source": [
    "tsPandas"
   ]
  },
  {
   "cell_type": "markdown",
   "metadata": {},
   "source": [
    "## Visualization"
   ]
  },
  {
   "cell_type": "markdown",
   "metadata": {},
   "source": [
    "Now, let's visualize our time series using `seaborn`:"
   ]
  },
  {
   "cell_type": "code",
   "execution_count": null,
   "metadata": {},
   "outputs": [],
   "source": [
    "plt.figure(figsize = (20,10))\n",
    "sns.lineplot(data = tsPandas,\n",
    "             x = 'date',\n",
    "             y = 'Value',\n",
    "             hue = 'Index',\n",
    "             style = 'reducer')"
   ]
  }
 ],
 "metadata": {
  "kernelspec": {
   "display_name": "Python 3",
   "language": "python",
   "name": "python3"
  },
  "language_info": {
   "codemirror_mode": {
    "name": "ipython",
    "version": 3
   },
   "file_extension": ".py",
   "mimetype": "text/x-python",
   "name": "python",
   "nbconvert_exporter": "python",
   "pygments_lexer": "ipython3",
   "version": "3.8.3"
  }
 },
 "nbformat": 4,
 "nbformat_minor": 4
}
