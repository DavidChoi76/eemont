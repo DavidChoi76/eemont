{
 "cells": [
  {
   "cell_type": "code",
   "execution_count": 1,
   "metadata": {},
   "outputs": [
    {
     "name": "stdout",
     "output_type": "stream",
     "text": [
      "Obtaining file:///C:/Users/dmlmont/python_packages/eemont\n",
      "Installing collected packages: eemont\n",
      "  Attempting uninstall: eemont\n",
      "    Found existing installation: eemont 0.1.0\n",
      "    Uninstalling eemont-0.1.0:\n",
      "      Successfully uninstalled eemont-0.1.0\n",
      "  Running setup.py develop for eemont\n",
      "Successfully installed eemont\n"
     ]
    }
   ],
   "source": [
    "!pip install -e ."
   ]
  },
  {
   "cell_type": "code",
   "execution_count": 2,
   "metadata": {},
   "outputs": [],
   "source": [
    "import ee, eemont, geemap"
   ]
  },
  {
   "cell_type": "code",
   "execution_count": 3,
   "metadata": {},
   "outputs": [],
   "source": [
    "ee.Initialize()"
   ]
  },
  {
   "cell_type": "code",
   "execution_count": 4,
   "metadata": {},
   "outputs": [],
   "source": [
    "point = ee.Geometry.Point([-76.21,4.36])"
   ]
  },
  {
   "cell_type": "code",
   "execution_count": 5,
   "metadata": {},
   "outputs": [],
   "source": [
    "S2 = ee.ImageCollection('COPERNICUS/S2_SR').filterDate('2019-01-01','2019-06-01').filterBounds(point)"
   ]
  },
  {
   "cell_type": "code",
   "execution_count": 7,
   "metadata": {},
   "outputs": [],
   "source": [
    "from eemont import Sentinel2"
   ]
  },
  {
   "cell_type": "code",
   "execution_count": 8,
   "metadata": {},
   "outputs": [],
   "source": [
    "S2 = eemont.Sentinel2.cloudMask(S2)"
   ]
  },
  {
   "cell_type": "code",
   "execution_count": 9,
   "metadata": {},
   "outputs": [
    {
     "data": {
      "application/vnd.jupyter.widget-view+json": {
       "model_id": "282eea48581d4010a95e687fd4ffa3fe",
       "version_major": 2,
       "version_minor": 0
      },
      "text/plain": [
       "Map(center=[4.5211549316553805, -75.93089804206862], controls=(WidgetControl(options=['position'], widget=HBox…"
      ]
     },
     "metadata": {},
     "output_type": "display_data"
    }
   ],
   "source": [
    "Map = geemap.Map()\n",
    "Map.centerObject(S2.first())\n",
    "Map.addLayer(S2.first(),{\"min\":0,\"max\":3000,\"bands\":[\"B4\",\"B3\",\"B2\"]})\n",
    "Map"
   ]
  },
  {
   "cell_type": "code",
   "execution_count": 10,
   "metadata": {},
   "outputs": [],
   "source": [
    "GNDVI = eemont.Sentinel2.vegetationIndex(S2,'GNDVI')"
   ]
  },
  {
   "cell_type": "code",
   "execution_count": 11,
   "metadata": {},
   "outputs": [
    {
     "data": {
      "application/vnd.jupyter.widget-view+json": {
       "model_id": "b038b26192ac4508a250d65c22ab0a74",
       "version_major": 2,
       "version_minor": 0
      },
      "text/plain": [
       "Map(center=[4.5211549316553805, -75.93089804206862], controls=(WidgetControl(options=['position'], widget=HBox…"
      ]
     },
     "metadata": {},
     "output_type": "display_data"
    }
   ],
   "source": [
    "Map = geemap.Map()\n",
    "Map.centerObject(GNDVI.first())\n",
    "Map.addLayer(GNDVI.first(),{\"min\":0,\"max\":1})\n",
    "Map"
   ]
  },
  {
   "cell_type": "code",
   "execution_count": 12,
   "metadata": {},
   "outputs": [],
   "source": [
    "EVI = eemont.Sentinel2.vegetationIndex(S2,'EVI')"
   ]
  },
  {
   "cell_type": "code",
   "execution_count": 14,
   "metadata": {},
   "outputs": [
    {
     "data": {
      "application/vnd.jupyter.widget-view+json": {
       "model_id": "7159cbcf2925479d9d0c50d222508e09",
       "version_major": 2,
       "version_minor": 0
      },
      "text/plain": [
       "Map(center=[390240, 300000], controls=(WidgetControl(options=['position'], widget=HBox(children=(ToggleButton(…"
      ]
     },
     "metadata": {},
     "output_type": "display_data"
    }
   ],
   "source": [
    "Map = geemap.Map()\n",
    "Map.centerObject(EVI.first())\n",
    "Map.addLayer(EVI.first(),{\"min\":0,\"max\":3})\n",
    "Map"
   ]
  }
 ],
 "metadata": {
  "kernelspec": {
   "display_name": "Python 3",
   "language": "python",
   "name": "python3"
  },
  "language_info": {
   "codemirror_mode": {
    "name": "ipython",
    "version": 3
   },
   "file_extension": ".py",
   "mimetype": "text/x-python",
   "name": "python",
   "nbconvert_exporter": "python",
   "pygments_lexer": "ipython3",
   "version": "3.8.3"
  }
 },
 "nbformat": 4,
 "nbformat_minor": 4
}
