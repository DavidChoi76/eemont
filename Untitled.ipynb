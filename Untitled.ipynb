{
 "cells": [
  {
   "cell_type": "code",
   "execution_count": 1,
   "metadata": {},
   "outputs": [
    {
     "name": "stdout",
     "output_type": "stream",
     "text": [
      "Obtaining file:///C:/Users/dmlmont/python_packages/eemont\n",
      "Installing collected packages: eemont\n",
      "  Attempting uninstall: eemont\n",
      "    Found existing installation: eemont 0.1.0\n",
      "    Uninstalling eemont-0.1.0:\n",
      "      Successfully uninstalled eemont-0.1.0\n",
      "  Running setup.py develop for eemont\n",
      "Successfully installed eemont\n"
     ]
    }
   ],
   "source": [
    "!pip install -e ."
   ]
  },
  {
   "cell_type": "code",
   "execution_count": 2,
   "metadata": {},
   "outputs": [],
   "source": [
    "import ee, eemont, geemap.eefolium as geemap"
   ]
  },
  {
   "cell_type": "code",
   "execution_count": 3,
   "metadata": {},
   "outputs": [],
   "source": [
    "ee.Initialize()"
   ]
  },
  {
   "cell_type": "code",
   "execution_count": 4,
   "metadata": {},
   "outputs": [],
   "source": [
    "point = ee.Geometry.Point([-76.21,4.36])"
   ]
  },
  {
   "cell_type": "code",
   "execution_count": 5,
   "metadata": {},
   "outputs": [],
   "source": [
    "S2 = ee.ImageCollection('COPERNICUS/S2_SR').filterDate('2019-01-01','2019-06-01').filterBounds(point)"
   ]
  },
  {
   "cell_type": "code",
   "execution_count": 6,
   "metadata": {},
   "outputs": [],
   "source": [
    "from eemont import Sentinel2, visualization"
   ]
  },
  {
   "cell_type": "code",
   "execution_count": 7,
   "metadata": {},
   "outputs": [],
   "source": [
    "S2 = eemont.Sentinel2.cloudMask(S2.first())\n",
    "S2 = eemont.Sentinel2.reflectance(S2)\n",
    "S2 = eemont.Sentinel2.spectralIndex(S2,['GNDVI','NBR','NDWI'])"
   ]
  },
  {
   "cell_type": "code",
   "execution_count": null,
   "metadata": {},
   "outputs": [],
   "source": [
    "Map = geemap.Map()\n",
    "Map.centerObject(S2)\n",
    "Map.addLayer(S2.select('GNDVI'),eemont.visualization.index(),'GNDVI')\n",
    "Map.addLayer(S2.select('NBR'),eemont.visualization.index('burn'),'NBR')\n",
    "Map.addLayer(S2.select('NDWI'),eemont.visualization.index('water'),'NDWI')\n",
    "Map.addLayerControl()\n",
    "Map"
   ]
  }
 ],
 "metadata": {
  "kernelspec": {
   "display_name": "Python 3",
   "language": "python",
   "name": "python3"
  },
  "language_info": {
   "codemirror_mode": {
    "name": "ipython",
    "version": 3
   },
   "file_extension": ".py",
   "mimetype": "text/x-python",
   "name": "python",
   "nbconvert_exporter": "python",
   "pygments_lexer": "ipython3",
   "version": "3.8.3"
  }
 },
 "nbformat": 4,
 "nbformat_minor": 4
}
