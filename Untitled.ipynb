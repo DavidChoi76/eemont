{
 "cells": [
  {
   "cell_type": "code",
   "execution_count": 1,
   "metadata": {},
   "outputs": [
    {
     "name": "stdout",
     "output_type": "stream",
     "text": [
      "Obtaining file:///C:/Users/dmlmont/python_packages/eemont\n",
      "Installing collected packages: eemont\n",
      "  Attempting uninstall: eemont\n",
      "    Found existing installation: eemont 0.1.0\n",
      "    Uninstalling eemont-0.1.0:\n",
      "      Successfully uninstalled eemont-0.1.0\n",
      "  Running setup.py develop for eemont\n",
      "Successfully installed eemont\n"
     ]
    }
   ],
   "source": [
    "!pip install -e ."
   ]
  },
  {
   "cell_type": "code",
   "execution_count": 2,
   "metadata": {},
   "outputs": [],
   "source": [
    "import ee, eemont, geemap"
   ]
  },
  {
   "cell_type": "code",
   "execution_count": 3,
   "metadata": {},
   "outputs": [],
   "source": [
    "ee.Initialize()"
   ]
  },
  {
   "cell_type": "code",
   "execution_count": 4,
   "metadata": {},
   "outputs": [],
   "source": [
    "point = ee.Geometry.Point([-76.21,4.36])"
   ]
  },
  {
   "cell_type": "code",
   "execution_count": 5,
   "metadata": {},
   "outputs": [],
   "source": [
    "S2 = ee.ImageCollection('COPERNICUS/S2_SR').filterDate('2019-01-01','2019-06-01').filterBounds(point)"
   ]
  },
  {
   "cell_type": "code",
   "execution_count": 6,
   "metadata": {},
   "outputs": [],
   "source": [
    "from eemont import Sentinel2, visualization"
   ]
  },
  {
   "cell_type": "code",
   "execution_count": 7,
   "metadata": {},
   "outputs": [],
   "source": [
    "S2 = eemont.Sentinel2.cloudMask(S2)"
   ]
  },
  {
   "cell_type": "code",
   "execution_count": 9,
   "metadata": {},
   "outputs": [
    {
     "data": {
      "application/vnd.jupyter.widget-view+json": {
       "model_id": "b97c81533e444e05b386249b1bf55853",
       "version_major": 2,
       "version_minor": 0
      },
      "text/plain": [
       "Map(center=[4.5211549316553805, -75.93089804206862], controls=(WidgetControl(options=['position'], widget=HBox…"
      ]
     },
     "metadata": {},
     "output_type": "display_data"
    }
   ],
   "source": [
    "Map = geemap.Map()\n",
    "Map.centerObject(S2.first())\n",
    "Map.addLayer(S2.first(),eemont.visualization.rgb(scaled = False))\n",
    "Map.addLayer(S2.first(),eemont.visualization.infrared(scaled = False))\n",
    "Map.addLayer(S2.first(),eemont.visualization.landwater(scaled = False))\n",
    "Map.addLayer(S2.first(),eemont.visualization.vegetation(scaled = False))\n",
    "Map"
   ]
  },
  {
   "cell_type": "code",
   "execution_count": 10,
   "metadata": {},
   "outputs": [],
   "source": [
    "S2 = eemont.Sentinel2.reflectance(S2)"
   ]
  },
  {
   "cell_type": "code",
   "execution_count": 11,
   "metadata": {},
   "outputs": [
    {
     "data": {
      "application/vnd.jupyter.widget-view+json": {
       "model_id": "e3052b7e3bde43a887f105d529f7c7ef",
       "version_major": 2,
       "version_minor": 0
      },
      "text/plain": [
       "Map(center=[390240, 300000], controls=(WidgetControl(options=['position'], widget=HBox(children=(ToggleButton(…"
      ]
     },
     "metadata": {},
     "output_type": "display_data"
    }
   ],
   "source": [
    "Map = geemap.Map()\n",
    "Map.centerObject(S2.first())\n",
    "Map.addLayer(S2.first(),eemont.visualization.rgb())\n",
    "Map.addLayer(S2.first(),eemont.visualization.infrared())\n",
    "Map.addLayer(S2.first(),eemont.visualization.landwater())\n",
    "Map.addLayer(S2.first(),eemont.visualization.vegetation())\n",
    "Map"
   ]
  },
  {
   "cell_type": "code",
   "execution_count": 9,
   "metadata": {},
   "outputs": [],
   "source": [
    "S2 = eemont.Sentinel2.vegetationIndex(S2,'GNDVI')"
   ]
  },
  {
   "cell_type": "code",
   "execution_count": 10,
   "metadata": {},
   "outputs": [
    {
     "data": {
      "application/vnd.jupyter.widget-view+json": {
       "model_id": "b6509da13bc54e8a88fc41bf8498e3a2",
       "version_major": 2,
       "version_minor": 0
      },
      "text/plain": [
       "Map(center=[4.5211549316553805, -75.93089804206862], controls=(WidgetControl(options=['position'], widget=HBox…"
      ]
     },
     "metadata": {},
     "output_type": "display_data"
    }
   ],
   "source": [
    "Map = geemap.Map()\n",
    "Map.centerObject(S2.first())\n",
    "Map.addLayer(S2.first().select('GNDVI'),{\"min\":0,\"max\":1})\n",
    "Map"
   ]
  },
  {
   "cell_type": "code",
   "execution_count": 21,
   "metadata": {},
   "outputs": [],
   "source": [
    "S2 = eemont.Sentinel2.vegetationIndex(S2,['NDVI','GNDVI','EVI','BNDVI'])"
   ]
  },
  {
   "cell_type": "code",
   "execution_count": 24,
   "metadata": {},
   "outputs": [
    {
     "data": {
      "application/vnd.jupyter.widget-view+json": {
       "model_id": "4002bec4f50d4695bf96f5d21647ba5d",
       "version_major": 2,
       "version_minor": 0
      },
      "text/plain": [
       "Map(center=[4.5211549316553805, -75.93089804206862], controls=(WidgetControl(options=['position'], widget=HBox…"
      ]
     },
     "metadata": {},
     "output_type": "display_data"
    }
   ],
   "source": [
    "Map = geemap.Map()\n",
    "Map.centerObject(S2.first())\n",
    "Map.addLayer(S2.first().select('EVI'),{\"min\":0,\"max\":3},'EVI')\n",
    "Map.addLayer(S2.first().select('NDVI'),{\"min\":0,\"max\":1},'NDVI')\n",
    "Map.addLayer(S2.first().select('GNDVI'),{\"min\":0,\"max\":1},'GNDVI')\n",
    "Map.addLayer(S2.first().select('BNDVI'),{\"min\":0,\"max\":1},'BNDVI')\n",
    "Map"
   ]
  },
  {
   "cell_type": "code",
   "execution_count": 25,
   "metadata": {},
   "outputs": [
    {
     "data": {
      "text/plain": [
       "['B1',\n",
       " 'B2',\n",
       " 'B3',\n",
       " 'B4',\n",
       " 'B5',\n",
       " 'B6',\n",
       " 'B7',\n",
       " 'B8',\n",
       " 'B8A',\n",
       " 'B9',\n",
       " 'B11',\n",
       " 'B12',\n",
       " 'AOT',\n",
       " 'WVP',\n",
       " 'SCL',\n",
       " 'TCI_R',\n",
       " 'TCI_G',\n",
       " 'TCI_B',\n",
       " 'MSK_CLDPRB',\n",
       " 'MSK_SNWPRB',\n",
       " 'QA10',\n",
       " 'QA20',\n",
       " 'QA60',\n",
       " 'CLOUD_MASK',\n",
       " 'SHADOW_MASK',\n",
       " 'CLOUD_SHADOW_MASK',\n",
       " 'NDVI',\n",
       " 'GNDVI',\n",
       " 'EVI',\n",
       " 'BNDVI']"
      ]
     },
     "execution_count": 25,
     "metadata": {},
     "output_type": "execute_result"
    }
   ],
   "source": [
    "S2.first().bandNames().getInfo()"
   ]
  }
 ],
 "metadata": {
  "kernelspec": {
   "display_name": "Python 3",
   "language": "python",
   "name": "python3"
  },
  "language_info": {
   "codemirror_mode": {
    "name": "ipython",
    "version": 3
   },
   "file_extension": ".py",
   "mimetype": "text/x-python",
   "name": "python",
   "nbconvert_exporter": "python",
   "pygments_lexer": "ipython3",
   "version": "3.8.3"
  }
 },
 "nbformat": 4,
 "nbformat_minor": 4
}
